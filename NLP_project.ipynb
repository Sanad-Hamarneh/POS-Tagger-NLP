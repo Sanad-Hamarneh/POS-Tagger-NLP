{
  "nbformat": 4,
  "nbformat_minor": 0,
  "metadata": {
    "colab": {
      "provenance": [],
      "gpuType": "T4"
    },
    "kernelspec": {
      "name": "python3",
      "display_name": "Python 3"
    },
    "language_info": {
      "name": "python"
    },
    "accelerator": "GPU"
  },
  "cells": [
    {
      "cell_type": "markdown",
      "source": [
        "# Import"
      ],
      "metadata": {
        "id": "D6FLIDvaDOyi"
      }
    },
    {
      "cell_type": "code",
      "source": [
        "import numpy as np\n",
        "import pandas as pd\n",
        "import matplotlib.pyplot as plt\n",
        "import seaborn as sns\n",
        "import os\n",
        "import tensorflow as tf\n",
        "from tensorflow import keras\n",
        "from tensorflow.keras.models import Model,Sequential\n",
        "from tensorflow.keras.layers import Input,Dense,Activation,LSTM,GRU,Embedding,Attention,Bidirectional,Concatenate\n",
        "from tensorflow.keras.preprocessing.text import one_hot,Tokenizer\n",
        "from tensorflow.keras.preprocessing.sequence import pad_sequences\n",
        "from sklearn.model_selection import train_test_split\n"
      ],
      "metadata": {
        "id": "rndCMKfebJ71"
      },
      "execution_count": null,
      "outputs": []
    },
    {
      "cell_type": "markdown",
      "source": [
        "# Read Data"
      ],
      "metadata": {
        "id": "aq0Ch5ysDR1L"
      }
    },
    {
      "cell_type": "code",
      "execution_count": null,
      "metadata": {
        "id": "W5zg4ckNXq50"
      },
      "outputs": [],
      "source": [
        "import pandas as pd\n",
        "\n",
        "# Read a Parquet file into a DataFrame\n",
        "df = pd.read_parquet('train-00000-of-00001.parquet')\n"
      ]
    },
    {
      "cell_type": "code",
      "source": [
        "df.head()"
      ],
      "metadata": {
        "id": "XplNCzvSg0il",
        "outputId": "fe190efa-95c8-4444-99de-8180bdf96af7",
        "colab": {
          "base_uri": "https://localhost:8080/",
          "height": 206
        }
      },
      "execution_count": null,
      "outputs": [
        {
          "output_type": "execute_result",
          "data": {
            "text/plain": [
              "   fold subfold                                              words  \\\n",
              "0     4       A  [ليه, لما, تحب, حد, من, قلبك, يطلع, واطى, ليه,...   \n",
              "1     4       A  [عارف, بيقولك, ايه, \", إذا, أخطأت, فأحسن, \", ....   \n",
              "2     3       A  [الحمد, لله, يا, جدعان, الفرسان, اللي, اتمسكوا...   \n",
              "3     1       A  [بحس, بشخصيتي, القوية, لما, اقول, لاخويا, اعمل...   \n",
              "4     5       A  [@ahmedabodsheesh, يا, باشا, دي, مش, محتاجه, د...   \n",
              "\n",
              "                                            segments  \\\n",
              "0  [ليه, لما, تحب, حد, من, قلب+ك, يطلع, واطى, ليه...   \n",
              "1  [عارف, ب+يقو+ل+ك, ايه, \", إذا, أخطأ+ت, ف+أحسن,...   \n",
              "2  [ال+حمد, ل+الله, يا, جدعان, ال+فرسان, اللي, ات...   \n",
              "3  [ب+حس, ب+شخصي+ت+ي, ال+قوي+ة, لما, اقول, ل+اخو+...   \n",
              "4  [@ahmedabodsheesh, يا, باشا, دي, مش, محتاج+ه, ...   \n",
              "\n",
              "                                            pos_tags  \n",
              "0  [PART, PART, V, NOUN, PREP, NOUN+PRON, V, ADJ,...  \n",
              "1  [ADJ, PROG_PART+V+PREP+PRON, PART, PUNC, PART,...  \n",
              "2  [DET+NOUN, PREP+NOUN, PART, NOUN, DET+NOUN, PA...  \n",
              "3  [PROG_PART+V, PREP+NOUN+NSUFF+PRON, DET+ADJ+NS...  \n",
              "4  [MENTION, PART, NOUN, PRON, PART, ADJ+NSUFF, N...  "
            ],
            "text/html": [
              "\n",
              "  <div id=\"df-6c37871a-b2b6-4877-9563-fbe0b128e2b3\" class=\"colab-df-container\">\n",
              "    <div>\n",
              "<style scoped>\n",
              "    .dataframe tbody tr th:only-of-type {\n",
              "        vertical-align: middle;\n",
              "    }\n",
              "\n",
              "    .dataframe tbody tr th {\n",
              "        vertical-align: top;\n",
              "    }\n",
              "\n",
              "    .dataframe thead th {\n",
              "        text-align: right;\n",
              "    }\n",
              "</style>\n",
              "<table border=\"1\" class=\"dataframe\">\n",
              "  <thead>\n",
              "    <tr style=\"text-align: right;\">\n",
              "      <th></th>\n",
              "      <th>fold</th>\n",
              "      <th>subfold</th>\n",
              "      <th>words</th>\n",
              "      <th>segments</th>\n",
              "      <th>pos_tags</th>\n",
              "    </tr>\n",
              "  </thead>\n",
              "  <tbody>\n",
              "    <tr>\n",
              "      <th>0</th>\n",
              "      <td>4</td>\n",
              "      <td>A</td>\n",
              "      <td>[ليه, لما, تحب, حد, من, قلبك, يطلع, واطى, ليه,...</td>\n",
              "      <td>[ليه, لما, تحب, حد, من, قلب+ك, يطلع, واطى, ليه...</td>\n",
              "      <td>[PART, PART, V, NOUN, PREP, NOUN+PRON, V, ADJ,...</td>\n",
              "    </tr>\n",
              "    <tr>\n",
              "      <th>1</th>\n",
              "      <td>4</td>\n",
              "      <td>A</td>\n",
              "      <td>[عارف, بيقولك, ايه, \", إذا, أخطأت, فأحسن, \", ....</td>\n",
              "      <td>[عارف, ب+يقو+ل+ك, ايه, \", إذا, أخطأ+ت, ف+أحسن,...</td>\n",
              "      <td>[ADJ, PROG_PART+V+PREP+PRON, PART, PUNC, PART,...</td>\n",
              "    </tr>\n",
              "    <tr>\n",
              "      <th>2</th>\n",
              "      <td>3</td>\n",
              "      <td>A</td>\n",
              "      <td>[الحمد, لله, يا, جدعان, الفرسان, اللي, اتمسكوا...</td>\n",
              "      <td>[ال+حمد, ل+الله, يا, جدعان, ال+فرسان, اللي, ات...</td>\n",
              "      <td>[DET+NOUN, PREP+NOUN, PART, NOUN, DET+NOUN, PA...</td>\n",
              "    </tr>\n",
              "    <tr>\n",
              "      <th>3</th>\n",
              "      <td>1</td>\n",
              "      <td>A</td>\n",
              "      <td>[بحس, بشخصيتي, القوية, لما, اقول, لاخويا, اعمل...</td>\n",
              "      <td>[ب+حس, ب+شخصي+ت+ي, ال+قوي+ة, لما, اقول, ل+اخو+...</td>\n",
              "      <td>[PROG_PART+V, PREP+NOUN+NSUFF+PRON, DET+ADJ+NS...</td>\n",
              "    </tr>\n",
              "    <tr>\n",
              "      <th>4</th>\n",
              "      <td>5</td>\n",
              "      <td>A</td>\n",
              "      <td>[@ahmedabodsheesh, يا, باشا, دي, مش, محتاجه, د...</td>\n",
              "      <td>[@ahmedabodsheesh, يا, باشا, دي, مش, محتاج+ه, ...</td>\n",
              "      <td>[MENTION, PART, NOUN, PRON, PART, ADJ+NSUFF, N...</td>\n",
              "    </tr>\n",
              "  </tbody>\n",
              "</table>\n",
              "</div>\n",
              "    <div class=\"colab-df-buttons\">\n",
              "\n",
              "  <div class=\"colab-df-container\">\n",
              "    <button class=\"colab-df-convert\" onclick=\"convertToInteractive('df-6c37871a-b2b6-4877-9563-fbe0b128e2b3')\"\n",
              "            title=\"Convert this dataframe to an interactive table.\"\n",
              "            style=\"display:none;\">\n",
              "\n",
              "  <svg xmlns=\"http://www.w3.org/2000/svg\" height=\"24px\" viewBox=\"0 -960 960 960\">\n",
              "    <path d=\"M120-120v-720h720v720H120Zm60-500h600v-160H180v160Zm220 220h160v-160H400v160Zm0 220h160v-160H400v160ZM180-400h160v-160H180v160Zm440 0h160v-160H620v160ZM180-180h160v-160H180v160Zm440 0h160v-160H620v160Z\"/>\n",
              "  </svg>\n",
              "    </button>\n",
              "\n",
              "  <style>\n",
              "    .colab-df-container {\n",
              "      display:flex;\n",
              "      gap: 12px;\n",
              "    }\n",
              "\n",
              "    .colab-df-convert {\n",
              "      background-color: #E8F0FE;\n",
              "      border: none;\n",
              "      border-radius: 50%;\n",
              "      cursor: pointer;\n",
              "      display: none;\n",
              "      fill: #1967D2;\n",
              "      height: 32px;\n",
              "      padding: 0 0 0 0;\n",
              "      width: 32px;\n",
              "    }\n",
              "\n",
              "    .colab-df-convert:hover {\n",
              "      background-color: #E2EBFA;\n",
              "      box-shadow: 0px 1px 2px rgba(60, 64, 67, 0.3), 0px 1px 3px 1px rgba(60, 64, 67, 0.15);\n",
              "      fill: #174EA6;\n",
              "    }\n",
              "\n",
              "    .colab-df-buttons div {\n",
              "      margin-bottom: 4px;\n",
              "    }\n",
              "\n",
              "    [theme=dark] .colab-df-convert {\n",
              "      background-color: #3B4455;\n",
              "      fill: #D2E3FC;\n",
              "    }\n",
              "\n",
              "    [theme=dark] .colab-df-convert:hover {\n",
              "      background-color: #434B5C;\n",
              "      box-shadow: 0px 1px 3px 1px rgba(0, 0, 0, 0.15);\n",
              "      filter: drop-shadow(0px 1px 2px rgba(0, 0, 0, 0.3));\n",
              "      fill: #FFFFFF;\n",
              "    }\n",
              "  </style>\n",
              "\n",
              "    <script>\n",
              "      const buttonEl =\n",
              "        document.querySelector('#df-6c37871a-b2b6-4877-9563-fbe0b128e2b3 button.colab-df-convert');\n",
              "      buttonEl.style.display =\n",
              "        google.colab.kernel.accessAllowed ? 'block' : 'none';\n",
              "\n",
              "      async function convertToInteractive(key) {\n",
              "        const element = document.querySelector('#df-6c37871a-b2b6-4877-9563-fbe0b128e2b3');\n",
              "        const dataTable =\n",
              "          await google.colab.kernel.invokeFunction('convertToInteractive',\n",
              "                                                    [key], {});\n",
              "        if (!dataTable) return;\n",
              "\n",
              "        const docLinkHtml = 'Like what you see? Visit the ' +\n",
              "          '<a target=\"_blank\" href=https://colab.research.google.com/notebooks/data_table.ipynb>data table notebook</a>'\n",
              "          + ' to learn more about interactive tables.';\n",
              "        element.innerHTML = '';\n",
              "        dataTable['output_type'] = 'display_data';\n",
              "        await google.colab.output.renderOutput(dataTable, element);\n",
              "        const docLink = document.createElement('div');\n",
              "        docLink.innerHTML = docLinkHtml;\n",
              "        element.appendChild(docLink);\n",
              "      }\n",
              "    </script>\n",
              "  </div>\n",
              "\n",
              "\n",
              "<div id=\"df-5a4700af-b96c-4f58-ac45-0d700303f06f\">\n",
              "  <button class=\"colab-df-quickchart\" onclick=\"quickchart('df-5a4700af-b96c-4f58-ac45-0d700303f06f')\"\n",
              "            title=\"Suggest charts\"\n",
              "            style=\"display:none;\">\n",
              "\n",
              "<svg xmlns=\"http://www.w3.org/2000/svg\" height=\"24px\"viewBox=\"0 0 24 24\"\n",
              "     width=\"24px\">\n",
              "    <g>\n",
              "        <path d=\"M19 3H5c-1.1 0-2 .9-2 2v14c0 1.1.9 2 2 2h14c1.1 0 2-.9 2-2V5c0-1.1-.9-2-2-2zM9 17H7v-7h2v7zm4 0h-2V7h2v10zm4 0h-2v-4h2v4z\"/>\n",
              "    </g>\n",
              "</svg>\n",
              "  </button>\n",
              "\n",
              "<style>\n",
              "  .colab-df-quickchart {\n",
              "      --bg-color: #E8F0FE;\n",
              "      --fill-color: #1967D2;\n",
              "      --hover-bg-color: #E2EBFA;\n",
              "      --hover-fill-color: #174EA6;\n",
              "      --disabled-fill-color: #AAA;\n",
              "      --disabled-bg-color: #DDD;\n",
              "  }\n",
              "\n",
              "  [theme=dark] .colab-df-quickchart {\n",
              "      --bg-color: #3B4455;\n",
              "      --fill-color: #D2E3FC;\n",
              "      --hover-bg-color: #434B5C;\n",
              "      --hover-fill-color: #FFFFFF;\n",
              "      --disabled-bg-color: #3B4455;\n",
              "      --disabled-fill-color: #666;\n",
              "  }\n",
              "\n",
              "  .colab-df-quickchart {\n",
              "    background-color: var(--bg-color);\n",
              "    border: none;\n",
              "    border-radius: 50%;\n",
              "    cursor: pointer;\n",
              "    display: none;\n",
              "    fill: var(--fill-color);\n",
              "    height: 32px;\n",
              "    padding: 0;\n",
              "    width: 32px;\n",
              "  }\n",
              "\n",
              "  .colab-df-quickchart:hover {\n",
              "    background-color: var(--hover-bg-color);\n",
              "    box-shadow: 0 1px 2px rgba(60, 64, 67, 0.3), 0 1px 3px 1px rgba(60, 64, 67, 0.15);\n",
              "    fill: var(--button-hover-fill-color);\n",
              "  }\n",
              "\n",
              "  .colab-df-quickchart-complete:disabled,\n",
              "  .colab-df-quickchart-complete:disabled:hover {\n",
              "    background-color: var(--disabled-bg-color);\n",
              "    fill: var(--disabled-fill-color);\n",
              "    box-shadow: none;\n",
              "  }\n",
              "\n",
              "  .colab-df-spinner {\n",
              "    border: 2px solid var(--fill-color);\n",
              "    border-color: transparent;\n",
              "    border-bottom-color: var(--fill-color);\n",
              "    animation:\n",
              "      spin 1s steps(1) infinite;\n",
              "  }\n",
              "\n",
              "  @keyframes spin {\n",
              "    0% {\n",
              "      border-color: transparent;\n",
              "      border-bottom-color: var(--fill-color);\n",
              "      border-left-color: var(--fill-color);\n",
              "    }\n",
              "    20% {\n",
              "      border-color: transparent;\n",
              "      border-left-color: var(--fill-color);\n",
              "      border-top-color: var(--fill-color);\n",
              "    }\n",
              "    30% {\n",
              "      border-color: transparent;\n",
              "      border-left-color: var(--fill-color);\n",
              "      border-top-color: var(--fill-color);\n",
              "      border-right-color: var(--fill-color);\n",
              "    }\n",
              "    40% {\n",
              "      border-color: transparent;\n",
              "      border-right-color: var(--fill-color);\n",
              "      border-top-color: var(--fill-color);\n",
              "    }\n",
              "    60% {\n",
              "      border-color: transparent;\n",
              "      border-right-color: var(--fill-color);\n",
              "    }\n",
              "    80% {\n",
              "      border-color: transparent;\n",
              "      border-right-color: var(--fill-color);\n",
              "      border-bottom-color: var(--fill-color);\n",
              "    }\n",
              "    90% {\n",
              "      border-color: transparent;\n",
              "      border-bottom-color: var(--fill-color);\n",
              "    }\n",
              "  }\n",
              "</style>\n",
              "\n",
              "  <script>\n",
              "    async function quickchart(key) {\n",
              "      const quickchartButtonEl =\n",
              "        document.querySelector('#' + key + ' button');\n",
              "      quickchartButtonEl.disabled = true;  // To prevent multiple clicks.\n",
              "      quickchartButtonEl.classList.add('colab-df-spinner');\n",
              "      try {\n",
              "        const charts = await google.colab.kernel.invokeFunction(\n",
              "            'suggestCharts', [key], {});\n",
              "      } catch (error) {\n",
              "        console.error('Error during call to suggestCharts:', error);\n",
              "      }\n",
              "      quickchartButtonEl.classList.remove('colab-df-spinner');\n",
              "      quickchartButtonEl.classList.add('colab-df-quickchart-complete');\n",
              "    }\n",
              "    (() => {\n",
              "      let quickchartButtonEl =\n",
              "        document.querySelector('#df-5a4700af-b96c-4f58-ac45-0d700303f06f button');\n",
              "      quickchartButtonEl.style.display =\n",
              "        google.colab.kernel.accessAllowed ? 'block' : 'none';\n",
              "    })();\n",
              "  </script>\n",
              "</div>\n",
              "\n",
              "    </div>\n",
              "  </div>\n"
            ]
          },
          "metadata": {},
          "execution_count": 3
        }
      ]
    },
    {
      "cell_type": "markdown",
      "source": [
        "# `add tag`\n",
        "<**start**> and <**end**>"
      ],
      "metadata": {
        "id": "psstrea-DX67"
      }
    },
    {
      "cell_type": "code",
      "source": [
        "# add tag <start> and <end> to target columns\n",
        "df[\"pos_tags\"]=df[\"pos_tags\"].apply(lambda text:f\"<start> {text} <end>\")\n"
      ],
      "metadata": {
        "id": "dzSNk8jK2YvZ"
      },
      "execution_count": null,
      "outputs": []
    },
    {
      "cell_type": "code",
      "source": [
        "df.head()"
      ],
      "metadata": {
        "colab": {
          "base_uri": "https://localhost:8080/",
          "height": 206
        },
        "id": "gVfvvg3kFMcI",
        "outputId": "2285e12a-579c-4399-db30-92aeaddd62f1"
      },
      "execution_count": null,
      "outputs": [
        {
          "output_type": "execute_result",
          "data": {
            "text/plain": [
              "   fold subfold                                              words  \\\n",
              "0     4       A  [ليه, لما, تحب, حد, من, قلبك, يطلع, واطى, ليه,...   \n",
              "1     4       A  [عارف, بيقولك, ايه, \", إذا, أخطأت, فأحسن, \", ....   \n",
              "2     3       A  [الحمد, لله, يا, جدعان, الفرسان, اللي, اتمسكوا...   \n",
              "3     1       A  [بحس, بشخصيتي, القوية, لما, اقول, لاخويا, اعمل...   \n",
              "4     5       A  [@ahmedabodsheesh, يا, باشا, دي, مش, محتاجه, د...   \n",
              "\n",
              "                                            segments  \\\n",
              "0  [ليه, لما, تحب, حد, من, قلب+ك, يطلع, واطى, ليه...   \n",
              "1  [عارف, ب+يقو+ل+ك, ايه, \", إذا, أخطأ+ت, ف+أحسن,...   \n",
              "2  [ال+حمد, ل+الله, يا, جدعان, ال+فرسان, اللي, ات...   \n",
              "3  [ب+حس, ب+شخصي+ت+ي, ال+قوي+ة, لما, اقول, ل+اخو+...   \n",
              "4  [@ahmedabodsheesh, يا, باشا, دي, مش, محتاج+ه, ...   \n",
              "\n",
              "                                            pos_tags  \n",
              "0  <start> ['PART' 'PART' 'V' 'NOUN' 'PREP' 'NOUN...  \n",
              "1  <start> ['ADJ' 'PROG_PART+V+PREP+PRON' 'PART' ...  \n",
              "2  <start> ['DET+NOUN' 'PREP+NOUN' 'PART' 'NOUN' ...  \n",
              "3  <start> ['PROG_PART+V' 'PREP+NOUN+NSUFF+PRON' ...  \n",
              "4  <start> ['MENTION' 'PART' 'NOUN' 'PRON' 'PART'...  "
            ],
            "text/html": [
              "\n",
              "  <div id=\"df-43d6cb2e-21c5-47de-8302-0d49bfd61050\" class=\"colab-df-container\">\n",
              "    <div>\n",
              "<style scoped>\n",
              "    .dataframe tbody tr th:only-of-type {\n",
              "        vertical-align: middle;\n",
              "    }\n",
              "\n",
              "    .dataframe tbody tr th {\n",
              "        vertical-align: top;\n",
              "    }\n",
              "\n",
              "    .dataframe thead th {\n",
              "        text-align: right;\n",
              "    }\n",
              "</style>\n",
              "<table border=\"1\" class=\"dataframe\">\n",
              "  <thead>\n",
              "    <tr style=\"text-align: right;\">\n",
              "      <th></th>\n",
              "      <th>fold</th>\n",
              "      <th>subfold</th>\n",
              "      <th>words</th>\n",
              "      <th>segments</th>\n",
              "      <th>pos_tags</th>\n",
              "    </tr>\n",
              "  </thead>\n",
              "  <tbody>\n",
              "    <tr>\n",
              "      <th>0</th>\n",
              "      <td>4</td>\n",
              "      <td>A</td>\n",
              "      <td>[ليه, لما, تحب, حد, من, قلبك, يطلع, واطى, ليه,...</td>\n",
              "      <td>[ليه, لما, تحب, حد, من, قلب+ك, يطلع, واطى, ليه...</td>\n",
              "      <td>&lt;start&gt; ['PART' 'PART' 'V' 'NOUN' 'PREP' 'NOUN...</td>\n",
              "    </tr>\n",
              "    <tr>\n",
              "      <th>1</th>\n",
              "      <td>4</td>\n",
              "      <td>A</td>\n",
              "      <td>[عارف, بيقولك, ايه, \", إذا, أخطأت, فأحسن, \", ....</td>\n",
              "      <td>[عارف, ب+يقو+ل+ك, ايه, \", إذا, أخطأ+ت, ف+أحسن,...</td>\n",
              "      <td>&lt;start&gt; ['ADJ' 'PROG_PART+V+PREP+PRON' 'PART' ...</td>\n",
              "    </tr>\n",
              "    <tr>\n",
              "      <th>2</th>\n",
              "      <td>3</td>\n",
              "      <td>A</td>\n",
              "      <td>[الحمد, لله, يا, جدعان, الفرسان, اللي, اتمسكوا...</td>\n",
              "      <td>[ال+حمد, ل+الله, يا, جدعان, ال+فرسان, اللي, ات...</td>\n",
              "      <td>&lt;start&gt; ['DET+NOUN' 'PREP+NOUN' 'PART' 'NOUN' ...</td>\n",
              "    </tr>\n",
              "    <tr>\n",
              "      <th>3</th>\n",
              "      <td>1</td>\n",
              "      <td>A</td>\n",
              "      <td>[بحس, بشخصيتي, القوية, لما, اقول, لاخويا, اعمل...</td>\n",
              "      <td>[ب+حس, ب+شخصي+ت+ي, ال+قوي+ة, لما, اقول, ل+اخو+...</td>\n",
              "      <td>&lt;start&gt; ['PROG_PART+V' 'PREP+NOUN+NSUFF+PRON' ...</td>\n",
              "    </tr>\n",
              "    <tr>\n",
              "      <th>4</th>\n",
              "      <td>5</td>\n",
              "      <td>A</td>\n",
              "      <td>[@ahmedabodsheesh, يا, باشا, دي, مش, محتاجه, د...</td>\n",
              "      <td>[@ahmedabodsheesh, يا, باشا, دي, مش, محتاج+ه, ...</td>\n",
              "      <td>&lt;start&gt; ['MENTION' 'PART' 'NOUN' 'PRON' 'PART'...</td>\n",
              "    </tr>\n",
              "  </tbody>\n",
              "</table>\n",
              "</div>\n",
              "    <div class=\"colab-df-buttons\">\n",
              "\n",
              "  <div class=\"colab-df-container\">\n",
              "    <button class=\"colab-df-convert\" onclick=\"convertToInteractive('df-43d6cb2e-21c5-47de-8302-0d49bfd61050')\"\n",
              "            title=\"Convert this dataframe to an interactive table.\"\n",
              "            style=\"display:none;\">\n",
              "\n",
              "  <svg xmlns=\"http://www.w3.org/2000/svg\" height=\"24px\" viewBox=\"0 -960 960 960\">\n",
              "    <path d=\"M120-120v-720h720v720H120Zm60-500h600v-160H180v160Zm220 220h160v-160H400v160Zm0 220h160v-160H400v160ZM180-400h160v-160H180v160Zm440 0h160v-160H620v160ZM180-180h160v-160H180v160Zm440 0h160v-160H620v160Z\"/>\n",
              "  </svg>\n",
              "    </button>\n",
              "\n",
              "  <style>\n",
              "    .colab-df-container {\n",
              "      display:flex;\n",
              "      gap: 12px;\n",
              "    }\n",
              "\n",
              "    .colab-df-convert {\n",
              "      background-color: #E8F0FE;\n",
              "      border: none;\n",
              "      border-radius: 50%;\n",
              "      cursor: pointer;\n",
              "      display: none;\n",
              "      fill: #1967D2;\n",
              "      height: 32px;\n",
              "      padding: 0 0 0 0;\n",
              "      width: 32px;\n",
              "    }\n",
              "\n",
              "    .colab-df-convert:hover {\n",
              "      background-color: #E2EBFA;\n",
              "      box-shadow: 0px 1px 2px rgba(60, 64, 67, 0.3), 0px 1px 3px 1px rgba(60, 64, 67, 0.15);\n",
              "      fill: #174EA6;\n",
              "    }\n",
              "\n",
              "    .colab-df-buttons div {\n",
              "      margin-bottom: 4px;\n",
              "    }\n",
              "\n",
              "    [theme=dark] .colab-df-convert {\n",
              "      background-color: #3B4455;\n",
              "      fill: #D2E3FC;\n",
              "    }\n",
              "\n",
              "    [theme=dark] .colab-df-convert:hover {\n",
              "      background-color: #434B5C;\n",
              "      box-shadow: 0px 1px 3px 1px rgba(0, 0, 0, 0.15);\n",
              "      filter: drop-shadow(0px 1px 2px rgba(0, 0, 0, 0.3));\n",
              "      fill: #FFFFFF;\n",
              "    }\n",
              "  </style>\n",
              "\n",
              "    <script>\n",
              "      const buttonEl =\n",
              "        document.querySelector('#df-43d6cb2e-21c5-47de-8302-0d49bfd61050 button.colab-df-convert');\n",
              "      buttonEl.style.display =\n",
              "        google.colab.kernel.accessAllowed ? 'block' : 'none';\n",
              "\n",
              "      async function convertToInteractive(key) {\n",
              "        const element = document.querySelector('#df-43d6cb2e-21c5-47de-8302-0d49bfd61050');\n",
              "        const dataTable =\n",
              "          await google.colab.kernel.invokeFunction('convertToInteractive',\n",
              "                                                    [key], {});\n",
              "        if (!dataTable) return;\n",
              "\n",
              "        const docLinkHtml = 'Like what you see? Visit the ' +\n",
              "          '<a target=\"_blank\" href=https://colab.research.google.com/notebooks/data_table.ipynb>data table notebook</a>'\n",
              "          + ' to learn more about interactive tables.';\n",
              "        element.innerHTML = '';\n",
              "        dataTable['output_type'] = 'display_data';\n",
              "        await google.colab.output.renderOutput(dataTable, element);\n",
              "        const docLink = document.createElement('div');\n",
              "        docLink.innerHTML = docLinkHtml;\n",
              "        element.appendChild(docLink);\n",
              "      }\n",
              "    </script>\n",
              "  </div>\n",
              "\n",
              "\n",
              "<div id=\"df-5f826827-fd00-4ec7-8325-46c32ea3e158\">\n",
              "  <button class=\"colab-df-quickchart\" onclick=\"quickchart('df-5f826827-fd00-4ec7-8325-46c32ea3e158')\"\n",
              "            title=\"Suggest charts\"\n",
              "            style=\"display:none;\">\n",
              "\n",
              "<svg xmlns=\"http://www.w3.org/2000/svg\" height=\"24px\"viewBox=\"0 0 24 24\"\n",
              "     width=\"24px\">\n",
              "    <g>\n",
              "        <path d=\"M19 3H5c-1.1 0-2 .9-2 2v14c0 1.1.9 2 2 2h14c1.1 0 2-.9 2-2V5c0-1.1-.9-2-2-2zM9 17H7v-7h2v7zm4 0h-2V7h2v10zm4 0h-2v-4h2v4z\"/>\n",
              "    </g>\n",
              "</svg>\n",
              "  </button>\n",
              "\n",
              "<style>\n",
              "  .colab-df-quickchart {\n",
              "      --bg-color: #E8F0FE;\n",
              "      --fill-color: #1967D2;\n",
              "      --hover-bg-color: #E2EBFA;\n",
              "      --hover-fill-color: #174EA6;\n",
              "      --disabled-fill-color: #AAA;\n",
              "      --disabled-bg-color: #DDD;\n",
              "  }\n",
              "\n",
              "  [theme=dark] .colab-df-quickchart {\n",
              "      --bg-color: #3B4455;\n",
              "      --fill-color: #D2E3FC;\n",
              "      --hover-bg-color: #434B5C;\n",
              "      --hover-fill-color: #FFFFFF;\n",
              "      --disabled-bg-color: #3B4455;\n",
              "      --disabled-fill-color: #666;\n",
              "  }\n",
              "\n",
              "  .colab-df-quickchart {\n",
              "    background-color: var(--bg-color);\n",
              "    border: none;\n",
              "    border-radius: 50%;\n",
              "    cursor: pointer;\n",
              "    display: none;\n",
              "    fill: var(--fill-color);\n",
              "    height: 32px;\n",
              "    padding: 0;\n",
              "    width: 32px;\n",
              "  }\n",
              "\n",
              "  .colab-df-quickchart:hover {\n",
              "    background-color: var(--hover-bg-color);\n",
              "    box-shadow: 0 1px 2px rgba(60, 64, 67, 0.3), 0 1px 3px 1px rgba(60, 64, 67, 0.15);\n",
              "    fill: var(--button-hover-fill-color);\n",
              "  }\n",
              "\n",
              "  .colab-df-quickchart-complete:disabled,\n",
              "  .colab-df-quickchart-complete:disabled:hover {\n",
              "    background-color: var(--disabled-bg-color);\n",
              "    fill: var(--disabled-fill-color);\n",
              "    box-shadow: none;\n",
              "  }\n",
              "\n",
              "  .colab-df-spinner {\n",
              "    border: 2px solid var(--fill-color);\n",
              "    border-color: transparent;\n",
              "    border-bottom-color: var(--fill-color);\n",
              "    animation:\n",
              "      spin 1s steps(1) infinite;\n",
              "  }\n",
              "\n",
              "  @keyframes spin {\n",
              "    0% {\n",
              "      border-color: transparent;\n",
              "      border-bottom-color: var(--fill-color);\n",
              "      border-left-color: var(--fill-color);\n",
              "    }\n",
              "    20% {\n",
              "      border-color: transparent;\n",
              "      border-left-color: var(--fill-color);\n",
              "      border-top-color: var(--fill-color);\n",
              "    }\n",
              "    30% {\n",
              "      border-color: transparent;\n",
              "      border-left-color: var(--fill-color);\n",
              "      border-top-color: var(--fill-color);\n",
              "      border-right-color: var(--fill-color);\n",
              "    }\n",
              "    40% {\n",
              "      border-color: transparent;\n",
              "      border-right-color: var(--fill-color);\n",
              "      border-top-color: var(--fill-color);\n",
              "    }\n",
              "    60% {\n",
              "      border-color: transparent;\n",
              "      border-right-color: var(--fill-color);\n",
              "    }\n",
              "    80% {\n",
              "      border-color: transparent;\n",
              "      border-right-color: var(--fill-color);\n",
              "      border-bottom-color: var(--fill-color);\n",
              "    }\n",
              "    90% {\n",
              "      border-color: transparent;\n",
              "      border-bottom-color: var(--fill-color);\n",
              "    }\n",
              "  }\n",
              "</style>\n",
              "\n",
              "  <script>\n",
              "    async function quickchart(key) {\n",
              "      const quickchartButtonEl =\n",
              "        document.querySelector('#' + key + ' button');\n",
              "      quickchartButtonEl.disabled = true;  // To prevent multiple clicks.\n",
              "      quickchartButtonEl.classList.add('colab-df-spinner');\n",
              "      try {\n",
              "        const charts = await google.colab.kernel.invokeFunction(\n",
              "            'suggestCharts', [key], {});\n",
              "      } catch (error) {\n",
              "        console.error('Error during call to suggestCharts:', error);\n",
              "      }\n",
              "      quickchartButtonEl.classList.remove('colab-df-spinner');\n",
              "      quickchartButtonEl.classList.add('colab-df-quickchart-complete');\n",
              "    }\n",
              "    (() => {\n",
              "      let quickchartButtonEl =\n",
              "        document.querySelector('#df-5f826827-fd00-4ec7-8325-46c32ea3e158 button');\n",
              "      quickchartButtonEl.style.display =\n",
              "        google.colab.kernel.accessAllowed ? 'block' : 'none';\n",
              "    })();\n",
              "  </script>\n",
              "</div>\n",
              "\n",
              "    </div>\n",
              "  </div>\n"
            ]
          },
          "metadata": {},
          "execution_count": 5
        }
      ]
    },
    {
      "cell_type": "code",
      "source": [
        "print(df.loc[0, 'segments'])\n"
      ],
      "metadata": {
        "colab": {
          "base_uri": "https://localhost:8080/"
        },
        "id": "ugs50VqzWAxR",
        "outputId": "b94d24b4-1364-4d3b-8f38-3fb4c38b714b"
      },
      "execution_count": null,
      "outputs": [
        {
          "output_type": "stream",
          "name": "stdout",
          "text": [
            "['ليه' 'لما' 'تحب' 'حد' 'من' 'قلب+ك' 'يطلع' 'واطى' 'ليه' 'لما' 'تلعب'\n",
            " 'على' 'واحد' 'يطلع' 'ب+يحب+ك' 'ليه' 'اللى' 'ه+يموت' 'علي+ك' 'انت' 'مش'\n",
            " 'طايق+ه' 'و+اللى' 'ه+تموت' 'علي+ه' 'مش' 'طايق+ك' 'عجب+ت' 'ل+ك' 'يا' 'زمن'\n",
            " 'EOS']\n"
          ]
        }
      ]
    },
    {
      "cell_type": "markdown",
      "source": [
        "# Splitting data into training, testing and validation_data"
      ],
      "metadata": {
        "id": "kJ44Lex0Darl"
      }
    },
    {
      "cell_type": "code",
      "source": [
        "from sklearn.model_selection import train_test_split\n",
        "\n",
        "# Splitting data into training and testing sets input_train, input_test, pos_train, pos_test = train_test_split(input, pos, test_size=0.2)\n",
        "\n",
        "#input_train, input_test, pos_train, pos_test = train_test_split(df, test_size=0.2, random_state=42)\n",
        "\n",
        "train_data, test_data = train_test_split(df, test_size=0.2, random_state=42)\n",
        "\n",
        "train_data, validation_data = train_test_split(train_data, test_size=0.2, random_state=42)\n",
        "\n",
        "x_train, y_train = train_data['segments'], train_data['pos_tags']\n",
        "x_valid, y_valid = validation_data['segments'], validation_data['pos_tags']\n",
        "x_test, y_test = test_data['segments'], test_data['pos_tags']\n",
        "\n"
      ],
      "metadata": {
        "id": "BC6gdXdY3JdI"
      },
      "execution_count": null,
      "outputs": []
    },
    {
      "cell_type": "markdown",
      "source": [
        "# Encoder"
      ],
      "metadata": {
        "id": "oE6B_iWMDsnt"
      }
    },
    {
      "cell_type": "code",
      "source": [
        "# encoder_vocab\n",
        "tokenizer=Tokenizer()\n",
        "#X_train_str = x_train.apply(lambda x: ' '.join(x))\n",
        "tokenizer.fit_on_texts(x_train.astype(str).tolist())\n",
        "\n",
        "encoder_vocab=tokenizer.word_index\n",
        "# encoder_vocab"
      ],
      "metadata": {
        "id": "rX1r7fh1UmQ8"
      },
      "execution_count": null,
      "outputs": []
    },
    {
      "cell_type": "code",
      "source": [
        "\n",
        "x_train_vect=tokenizer.texts_to_sequences(x_train.astype(str).tolist())\n",
        "x_test_vect=tokenizer.texts_to_sequences(x_test.astype(str).tolist())\n",
        "x_valid_vect=tokenizer.texts_to_sequences(x_valid.astype(str).tolist())\n"
      ],
      "metadata": {
        "id": "BHddYAR5V5xB"
      },
      "execution_count": null,
      "outputs": []
    },
    {
      "cell_type": "code",
      "source": [
        "############################################"
      ],
      "metadata": {
        "id": "c6jnOUn89O3m"
      },
      "execution_count": null,
      "outputs": []
    },
    {
      "cell_type": "code",
      "source": [
        "X=x_train_vect+x_test_vect+x_valid_vect\n",
        "len(X)"
      ],
      "metadata": {
        "colab": {
          "base_uri": "https://localhost:8080/"
        },
        "id": "nt1wNHgSJ6ac",
        "outputId": "351e9560-ac0b-4ac6-9de3-39970e15d956"
      },
      "execution_count": null,
      "outputs": [
        {
          "output_type": "execute_result",
          "data": {
            "text/plain": [
              "350"
            ]
          },
          "metadata": {},
          "execution_count": 9
        }
      ]
    },
    {
      "cell_type": "code",
      "source": [
        "encoder_vocab_size = len(tokenizer.word_index) + 1\n",
        "\n",
        "max_input_length=max([len(i) for i in X])"
      ],
      "metadata": {
        "id": "ZLTLjhNb7LAd"
      },
      "execution_count": null,
      "outputs": []
    },
    {
      "cell_type": "code",
      "source": [
        "encoder_vocab_size"
      ],
      "metadata": {
        "colab": {
          "base_uri": "https://localhost:8080/"
        },
        "id": "Yx6CgVxV7Oot",
        "outputId": "bd3466bc-06f3-4c0b-8597-138c5f835dd7"
      },
      "execution_count": null,
      "outputs": [
        {
          "output_type": "execute_result",
          "data": {
            "text/plain": [
              "2009"
            ]
          },
          "metadata": {},
          "execution_count": 11
        }
      ]
    },
    {
      "cell_type": "code",
      "source": [
        "max_input_length"
      ],
      "metadata": {
        "colab": {
          "base_uri": "https://localhost:8080/"
        },
        "id": "imFogsJ97TAV",
        "outputId": "e2cc73e3-3836-4e98-8ead-77e5e235d2fa"
      },
      "execution_count": null,
      "outputs": [
        {
          "output_type": "execute_result",
          "data": {
            "text/plain": [
              "64"
            ]
          },
          "metadata": {},
          "execution_count": 12
        }
      ]
    },
    {
      "cell_type": "markdown",
      "source": [
        "# Decoder\n"
      ],
      "metadata": {
        "id": "kKuz1d1c7Wg3"
      }
    },
    {
      "cell_type": "code",
      "source": [
        "tokenizer_decoder=Tokenizer()\n",
        "tokenizer_decoder.fit_on_texts(y_train.astype(str).tolist())\n",
        "\n",
        "decoder_vacab=tokenizer_decoder.word_index"
      ],
      "metadata": {
        "id": "X_nsIgWrcpm_"
      },
      "execution_count": null,
      "outputs": []
    },
    {
      "cell_type": "code",
      "source": [
        "y_train_vect=tokenizer_decoder.texts_to_sequences(y_train.astype(str).tolist())\n",
        "y_test_vect=tokenizer_decoder.texts_to_sequences(y_test.astype(str).tolist())\n",
        "y_valid_vect=tokenizer_decoder.texts_to_sequences(y_valid.astype(str).tolist())"
      ],
      "metadata": {
        "id": "hjfF3tsdc6-9"
      },
      "execution_count": null,
      "outputs": []
    },
    {
      "cell_type": "code",
      "source": [
        "y=y_train_vect+y_test_vect+y_valid_vect"
      ],
      "metadata": {
        "id": "rkWpImjGMBOe"
      },
      "execution_count": null,
      "outputs": []
    },
    {
      "cell_type": "code",
      "source": [
        "decoder_vocab_size = len(tokenizer_decoder.word_index) + 1\n",
        "max_target_length=max([len(i) for i in y])"
      ],
      "metadata": {
        "id": "goBWeu8p6sOJ"
      },
      "execution_count": null,
      "outputs": []
    },
    {
      "cell_type": "code",
      "source": [
        "decoder_vocab_size"
      ],
      "metadata": {
        "colab": {
          "base_uri": "https://localhost:8080/"
        },
        "id": "acfrF9Wr-OMM",
        "outputId": "18532fb6-df79-41dc-ff2d-fd8846c55a5d"
      },
      "execution_count": null,
      "outputs": [
        {
          "output_type": "execute_result",
          "data": {
            "text/plain": [
              "56"
            ]
          },
          "metadata": {},
          "execution_count": 17
        }
      ]
    },
    {
      "cell_type": "code",
      "source": [
        "max_target_length"
      ],
      "metadata": {
        "colab": {
          "base_uri": "https://localhost:8080/"
        },
        "id": "KL7OigOo-OUm",
        "outputId": "b85f7959-f36c-4467-bc8d-4e1a3a7ed2c9"
      },
      "execution_count": null,
      "outputs": [
        {
          "output_type": "execute_result",
          "data": {
            "text/plain": [
              "59"
            ]
          },
          "metadata": {},
          "execution_count": 18
        }
      ]
    },
    {
      "cell_type": "markdown",
      "source": [
        "# pad sequences\n",
        "Train"
      ],
      "metadata": {
        "id": "SJ-QwsD6Fg98"
      }
    },
    {
      "cell_type": "code",
      "source": [
        "# pad sequences\n",
        "encoder_input_seqs=pad_sequences(x_train_vect , maxlen=max_input_length , padding=\"pre\")\n",
        "# decoder_input_seqs=pad_sequences(decoder_input,maxlen=max_target_length,padding=\"post\")\n",
        "# decoder_output_seqs=pad_sequences(decoder_output,maxlen=max_target_length,padding=\"post\")\n",
        "decoder_input_seqs = pad_sequences([seq[:-1] for seq in y_train_vect],\n",
        "                                   maxlen=max_target_length, padding=\"post\")\n",
        "decoder_output_seqs = pad_sequences([seq[1:] for seq in y_train_vect],\n",
        "                                    maxlen=max_target_length, padding=\"post\")\n"
      ],
      "metadata": {
        "id": "hL8JhVV3MVZd"
      },
      "execution_count": null,
      "outputs": []
    },
    {
      "cell_type": "markdown",
      "source": [
        "# pad sequences\n",
        "Validation"
      ],
      "metadata": {
        "id": "rT_zB2dTHklL"
      }
    },
    {
      "cell_type": "code",
      "source": [
        "encoder_valid_seqs=pad_sequences(x_valid_vect , maxlen=max_input_length , padding=\"pre\")\n",
        "\n",
        "decoder_valid_input_seqs = pad_sequences([seq[:-1] for seq in y_valid_vect],\n",
        "                                         maxlen=max_target_length, padding=\"post\")\n",
        "decoder_valid_output_seqs = pad_sequences([seq[1:] for seq in y_valid_vect],\n",
        "                                          maxlen=max_target_length, padding=\"post\")"
      ],
      "metadata": {
        "id": "7Dv0opCDHsCS"
      },
      "execution_count": null,
      "outputs": []
    },
    {
      "cell_type": "markdown",
      "source": [
        "# pad sequences\n",
        "Test"
      ],
      "metadata": {
        "id": "nGvP2-WkHsYa"
      }
    },
    {
      "cell_type": "code",
      "source": [
        "encoder_test_seqs=pad_sequences(x_test_vect, maxlen=max_input_length , padding=\"pre\")\n",
        "\n",
        "decoder_test_input_seqs = pad_sequences([seq[:-1] for seq in y_test_vect],\n",
        "                                        maxlen=max_target_length, padding=\"post\")\n",
        "decoder_test_output_seqs = pad_sequences([seq[1:] for seq in y_test_vect],\n",
        "                                         maxlen=max_target_length, padding=\"post\")"
      ],
      "metadata": {
        "id": "5wlTqwCwH4gR"
      },
      "execution_count": null,
      "outputs": []
    },
    {
      "cell_type": "code",
      "source": [
        "#########################################MODEL#######################################"
      ],
      "metadata": {
        "id": "02ojoZfgMfze"
      },
      "execution_count": null,
      "outputs": []
    },
    {
      "cell_type": "code",
      "source": [
        "#Early stopping\n",
        "from tensorflow.keras.callbacks import EarlyStopping\n",
        "early_stopping = EarlyStopping(monitor='val_loss', patience=5, restore_best_weights=True)\n"
      ],
      "metadata": {
        "id": "l-RbdVuYaYGE"
      },
      "execution_count": null,
      "outputs": []
    },
    {
      "cell_type": "code",
      "source": [
        "#new"
      ],
      "metadata": {
        "id": "ol_-bCfjqR0t"
      },
      "execution_count": null,
      "outputs": []
    },
    {
      "cell_type": "code",
      "source": [
        "import tensorflow as tf\n",
        "from tensorflow.keras.layers import Input, Embedding, LSTM, Dense, Attention, Concatenate\n",
        "from tensorflow.keras.models import Model\n",
        "\n",
        "# Hyperparameters\n",
        "EMBEDDING_DIM = 256\n",
        "LSTM_UNITS = 256\n",
        "\n",
        "# Define the encoder\n",
        "encoder_input = Input(shape=(None,), name='encoder_input')\n",
        "encoder_embedding = Embedding(encoder_vocab_size, EMBEDDING_DIM, name='encoder_embedding')(encoder_input)\n",
        "_, state_h, state_c = LSTM(LSTM_UNITS, return_state=True, name='encoder_lstm')(encoder_embedding)\n",
        "encoder_states = [state_h, state_c]\n",
        "\n",
        "# Define the decoder\n",
        "decoder_input = Input(shape=(None,), name='decoder_input')\n",
        "decoder_embedding = Embedding(decoder_vocab_size, EMBEDDING_DIM, name='decoder_embedding')(decoder_input)\n",
        "decoder_lstm = LSTM(LSTM_UNITS, return_sequences=True, return_state=True, name='decoder_lstm')\n",
        "decoder_outputs, _, _ = decoder_lstm(decoder_embedding, initial_state=encoder_states)\n",
        "\n",
        "# Attention mechanism\n",
        "attention_layer = Attention(use_scale=True, name='attention_layer')\n",
        "attention_output = attention_layer([decoder_outputs, state_h])\n",
        "\n",
        "# Concatenate attention output and decoder output\n",
        "decoder_combined_context = Concatenate(axis=-1, name='concatenate_layer')([attention_output, decoder_outputs])\n",
        "\n",
        "# Dense layer for POS tags prediction\n",
        "dense_layer = Dense(decoder_vocab_size, activation='softmax', name='output_layer')\n",
        "output = dense_layer(decoder_combined_context)\n",
        "\n",
        "# Create the model\n",
        "model = Model([encoder_input, decoder_input], output)\n",
        "\n",
        "# Print model summary\n",
        "# model.summary()\n",
        "\n",
        "# Compile the model\n",
        "model.compile(optimizer='rmsprop', loss='sparse_categorical_crossentropy', metrics=['accuracy'])\n",
        "\n",
        "# Train the model\n",
        "BATCH_SIZE = 64\n",
        "EPOCHS = 1000\n",
        "history = model.fit(\n",
        "    [encoder_input_seqs, decoder_input_seqs],\n",
        "    decoder_output_seqs,\n",
        "    validation_data=([encoder_valid_seqs, decoder_valid_input_seqs], decoder_valid_output_seqs),\n",
        "    batch_size=BATCH_SIZE,\n",
        "    epochs=EPOCHS,callbacks=[early_stopping]\n",
        ")\n"
      ],
      "metadata": {
        "colab": {
          "base_uri": "https://localhost:8080/"
        },
        "id": "VZlmKd7MUa57",
        "outputId": "49cec1f9-dd8c-4d63-80ac-4063ae2a3c6f"
      },
      "execution_count": null,
      "outputs": [
        {
          "output_type": "stream",
          "name": "stdout",
          "text": [
            "Epoch 1/1000\n",
            "4/4 [==============================] - 5s 441ms/step - loss: 3.7031 - accuracy: 0.2606 - val_loss: 3.6314 - val_accuracy: 0.3808\n",
            "Epoch 2/1000\n",
            "4/4 [==============================] - 1s 151ms/step - loss: 3.0758 - accuracy: 0.3693 - val_loss: 2.6403 - val_accuracy: 0.3808\n",
            "Epoch 3/1000\n",
            "4/4 [==============================] - 0s 105ms/step - loss: 2.6776 - accuracy: 0.3711 - val_loss: 2.7705 - val_accuracy: 0.3808\n",
            "Epoch 4/1000\n",
            "4/4 [==============================] - 1s 182ms/step - loss: 2.7363 - accuracy: 0.3766 - val_loss: 2.4963 - val_accuracy: 0.3935\n",
            "Epoch 5/1000\n",
            "4/4 [==============================] - 0s 111ms/step - loss: 2.6437 - accuracy: 0.3875 - val_loss: 2.8417 - val_accuracy: 0.3898\n",
            "Epoch 6/1000\n",
            "4/4 [==============================] - 0s 132ms/step - loss: 2.6071 - accuracy: 0.3745 - val_loss: 2.3671 - val_accuracy: 0.3880\n",
            "Epoch 7/1000\n",
            "4/4 [==============================] - 1s 139ms/step - loss: 2.3707 - accuracy: 0.3897 - val_loss: 2.2806 - val_accuracy: 0.4062\n",
            "Epoch 8/1000\n",
            "4/4 [==============================] - 1s 146ms/step - loss: 2.3081 - accuracy: 0.4170 - val_loss: 2.2263 - val_accuracy: 0.4389\n",
            "Epoch 9/1000\n",
            "4/4 [==============================] - 0s 105ms/step - loss: 2.2392 - accuracy: 0.4258 - val_loss: 2.1820 - val_accuracy: 0.4268\n",
            "Epoch 10/1000\n",
            "4/4 [==============================] - 0s 71ms/step - loss: 2.2213 - accuracy: 0.4269 - val_loss: 2.1716 - val_accuracy: 0.4280\n",
            "Epoch 11/1000\n",
            "4/4 [==============================] - 0s 75ms/step - loss: 2.2145 - accuracy: 0.4286 - val_loss: 2.1463 - val_accuracy: 0.4383\n",
            "Epoch 12/1000\n",
            "4/4 [==============================] - 0s 74ms/step - loss: 2.1718 - accuracy: 0.4321 - val_loss: 2.1355 - val_accuracy: 0.4383\n",
            "Epoch 13/1000\n",
            "4/4 [==============================] - 0s 104ms/step - loss: 2.1712 - accuracy: 0.4314 - val_loss: 2.1214 - val_accuracy: 0.4443\n",
            "Epoch 14/1000\n",
            "4/4 [==============================] - 0s 105ms/step - loss: 2.1481 - accuracy: 0.4336 - val_loss: 2.1176 - val_accuracy: 0.4476\n",
            "Epoch 15/1000\n",
            "4/4 [==============================] - 0s 134ms/step - loss: 2.1431 - accuracy: 0.4352 - val_loss: 2.0998 - val_accuracy: 0.4389\n",
            "Epoch 16/1000\n",
            "4/4 [==============================] - 0s 72ms/step - loss: 2.1245 - accuracy: 0.4344 - val_loss: 2.1054 - val_accuracy: 0.4389\n",
            "Epoch 17/1000\n",
            "4/4 [==============================] - 1s 130ms/step - loss: 2.1411 - accuracy: 0.4345 - val_loss: 2.0877 - val_accuracy: 0.4395\n",
            "Epoch 18/1000\n",
            "4/4 [==============================] - 1s 141ms/step - loss: 2.1117 - accuracy: 0.4360 - val_loss: 2.0709 - val_accuracy: 0.4422\n",
            "Epoch 19/1000\n",
            "4/4 [==============================] - 0s 102ms/step - loss: 2.1045 - accuracy: 0.4375 - val_loss: 2.0657 - val_accuracy: 0.4425\n",
            "Epoch 20/1000\n",
            "4/4 [==============================] - 1s 279ms/step - loss: 2.0999 - accuracy: 0.4398 - val_loss: 2.0586 - val_accuracy: 0.4473\n",
            "Epoch 21/1000\n",
            "4/4 [==============================] - 1s 112ms/step - loss: 2.0870 - accuracy: 0.4458 - val_loss: 2.0552 - val_accuracy: 0.4437\n",
            "Epoch 22/1000\n",
            "4/4 [==============================] - 0s 108ms/step - loss: 2.0853 - accuracy: 0.4442 - val_loss: 2.0402 - val_accuracy: 0.4570\n",
            "Epoch 23/1000\n",
            "4/4 [==============================] - 0s 57ms/step - loss: 2.0728 - accuracy: 0.4503 - val_loss: 2.0359 - val_accuracy: 0.4567\n",
            "Epoch 24/1000\n",
            "4/4 [==============================] - 0s 55ms/step - loss: 2.0628 - accuracy: 0.4530 - val_loss: 2.0245 - val_accuracy: 0.4640\n",
            "Epoch 25/1000\n",
            "4/4 [==============================] - 0s 75ms/step - loss: 2.0575 - accuracy: 0.4538 - val_loss: 2.0228 - val_accuracy: 0.4652\n",
            "Epoch 26/1000\n",
            "4/4 [==============================] - 0s 91ms/step - loss: 2.0461 - accuracy: 0.4597 - val_loss: 2.0051 - val_accuracy: 0.4594\n",
            "Epoch 27/1000\n",
            "4/4 [==============================] - 0s 98ms/step - loss: 2.0364 - accuracy: 0.4596 - val_loss: 1.9940 - val_accuracy: 0.4749\n",
            "Epoch 28/1000\n",
            "4/4 [==============================] - 0s 77ms/step - loss: 2.0224 - accuracy: 0.4684 - val_loss: 1.9903 - val_accuracy: 0.4658\n",
            "Epoch 29/1000\n",
            "4/4 [==============================] - 0s 73ms/step - loss: 2.0089 - accuracy: 0.4715 - val_loss: 1.9684 - val_accuracy: 0.4691\n",
            "Epoch 30/1000\n",
            "4/4 [==============================] - 0s 98ms/step - loss: 1.9943 - accuracy: 0.4744 - val_loss: 1.9563 - val_accuracy: 0.4800\n",
            "Epoch 31/1000\n",
            "4/4 [==============================] - 0s 78ms/step - loss: 1.9748 - accuracy: 0.4809 - val_loss: 1.9367 - val_accuracy: 0.4812\n",
            "Epoch 32/1000\n",
            "4/4 [==============================] - 0s 77ms/step - loss: 1.9561 - accuracy: 0.4860 - val_loss: 1.9169 - val_accuracy: 0.4858\n",
            "Epoch 33/1000\n",
            "4/4 [==============================] - 0s 59ms/step - loss: 1.9424 - accuracy: 0.4877 - val_loss: 1.8887 - val_accuracy: 0.4964\n",
            "Epoch 34/1000\n",
            "4/4 [==============================] - 0s 60ms/step - loss: 1.9062 - accuracy: 0.4991 - val_loss: 1.8647 - val_accuracy: 0.4906\n",
            "Epoch 35/1000\n",
            "4/4 [==============================] - 0s 62ms/step - loss: 1.8830 - accuracy: 0.5007 - val_loss: 1.8529 - val_accuracy: 0.5197\n",
            "Epoch 36/1000\n",
            "4/4 [==============================] - 0s 79ms/step - loss: 1.8603 - accuracy: 0.5122 - val_loss: 1.8058 - val_accuracy: 0.5106\n",
            "Epoch 37/1000\n",
            "4/4 [==============================] - 0s 97ms/step - loss: 1.8233 - accuracy: 0.5163 - val_loss: 1.7719 - val_accuracy: 0.5203\n",
            "Epoch 38/1000\n",
            "4/4 [==============================] - 0s 118ms/step - loss: 1.7840 - accuracy: 0.5221 - val_loss: 1.7353 - val_accuracy: 0.5457\n",
            "Epoch 39/1000\n",
            "4/4 [==============================] - 0s 78ms/step - loss: 1.7623 - accuracy: 0.5368 - val_loss: 1.7067 - val_accuracy: 0.5363\n",
            "Epoch 40/1000\n",
            "4/4 [==============================] - 0s 49ms/step - loss: 1.7174 - accuracy: 0.5393 - val_loss: 1.6661 - val_accuracy: 0.5336\n",
            "Epoch 41/1000\n",
            "4/4 [==============================] - 0s 47ms/step - loss: 1.6817 - accuracy: 0.5443 - val_loss: 1.6460 - val_accuracy: 0.5611\n",
            "Epoch 42/1000\n",
            "4/4 [==============================] - 0s 47ms/step - loss: 1.6424 - accuracy: 0.5544 - val_loss: 1.5790 - val_accuracy: 0.5778\n",
            "Epoch 43/1000\n",
            "4/4 [==============================] - 0s 101ms/step - loss: 1.6039 - accuracy: 0.5640 - val_loss: 1.5559 - val_accuracy: 0.5714\n",
            "Epoch 44/1000\n",
            "4/4 [==============================] - 0s 47ms/step - loss: 1.5780 - accuracy: 0.5660 - val_loss: 1.5144 - val_accuracy: 0.5817\n",
            "Epoch 45/1000\n",
            "4/4 [==============================] - 0s 71ms/step - loss: 1.5304 - accuracy: 0.5773 - val_loss: 1.4890 - val_accuracy: 0.5781\n",
            "Epoch 46/1000\n",
            "4/4 [==============================] - 0s 45ms/step - loss: 1.5161 - accuracy: 0.5720 - val_loss: 1.4747 - val_accuracy: 0.5826\n",
            "Epoch 47/1000\n",
            "4/4 [==============================] - 0s 43ms/step - loss: 1.4825 - accuracy: 0.5804 - val_loss: 1.4349 - val_accuracy: 0.5838\n",
            "Epoch 48/1000\n",
            "4/4 [==============================] - 0s 46ms/step - loss: 1.4699 - accuracy: 0.5749 - val_loss: 1.4319 - val_accuracy: 0.5781\n",
            "Epoch 49/1000\n",
            "4/4 [==============================] - 0s 75ms/step - loss: 1.4473 - accuracy: 0.5753 - val_loss: 1.4103 - val_accuracy: 0.5832\n",
            "Epoch 50/1000\n",
            "4/4 [==============================] - 0s 68ms/step - loss: 1.4241 - accuracy: 0.5822 - val_loss: 1.3920 - val_accuracy: 0.5860\n",
            "Epoch 51/1000\n",
            "4/4 [==============================] - 0s 36ms/step - loss: 1.4106 - accuracy: 0.5813 - val_loss: 1.3998 - val_accuracy: 0.5850\n",
            "Epoch 52/1000\n",
            "4/4 [==============================] - 0s 73ms/step - loss: 1.4072 - accuracy: 0.5836 - val_loss: 1.3758 - val_accuracy: 0.5872\n",
            "Epoch 53/1000\n",
            "4/4 [==============================] - 0s 104ms/step - loss: 1.3871 - accuracy: 0.5826 - val_loss: 1.3486 - val_accuracy: 0.5938\n",
            "Epoch 54/1000\n",
            "4/4 [==============================] - 0s 70ms/step - loss: 1.3579 - accuracy: 0.5931 - val_loss: 1.3437 - val_accuracy: 0.5908\n",
            "Epoch 55/1000\n",
            "4/4 [==============================] - 0s 32ms/step - loss: 1.3641 - accuracy: 0.5865 - val_loss: 1.3731 - val_accuracy: 0.5911\n",
            "Epoch 56/1000\n",
            "4/4 [==============================] - 0s 49ms/step - loss: 1.3671 - accuracy: 0.5882 - val_loss: 1.3156 - val_accuracy: 0.5917\n",
            "Epoch 57/1000\n",
            "4/4 [==============================] - 0s 68ms/step - loss: 1.3446 - accuracy: 0.5903 - val_loss: 1.3285 - val_accuracy: 0.5947\n",
            "Epoch 58/1000\n",
            "4/4 [==============================] - 0s 48ms/step - loss: 1.3383 - accuracy: 0.5883 - val_loss: 1.3180 - val_accuracy: 0.5965\n",
            "Epoch 59/1000\n",
            "4/4 [==============================] - 0s 50ms/step - loss: 1.3283 - accuracy: 0.5909 - val_loss: 1.3096 - val_accuracy: 0.5987\n",
            "Epoch 60/1000\n",
            "4/4 [==============================] - 0s 30ms/step - loss: 1.3156 - accuracy: 0.5944 - val_loss: 1.3135 - val_accuracy: 0.5911\n",
            "Epoch 61/1000\n",
            "4/4 [==============================] - 0s 52ms/step - loss: 1.3167 - accuracy: 0.5923 - val_loss: 1.2843 - val_accuracy: 0.5981\n",
            "Epoch 62/1000\n",
            "4/4 [==============================] - 0s 51ms/step - loss: 1.3043 - accuracy: 0.5956 - val_loss: 1.2911 - val_accuracy: 0.6002\n",
            "Epoch 63/1000\n",
            "4/4 [==============================] - 0s 50ms/step - loss: 1.2981 - accuracy: 0.5978 - val_loss: 1.2852 - val_accuracy: 0.5990\n",
            "Epoch 64/1000\n",
            "4/4 [==============================] - 0s 67ms/step - loss: 1.2923 - accuracy: 0.5974 - val_loss: 1.2975 - val_accuracy: 0.6008\n",
            "Epoch 65/1000\n",
            "4/4 [==============================] - 0s 50ms/step - loss: 1.2879 - accuracy: 0.5991 - val_loss: 1.3007 - val_accuracy: 0.5908\n",
            "Epoch 66/1000\n",
            "4/4 [==============================] - 0s 52ms/step - loss: 1.2929 - accuracy: 0.5976 - val_loss: 1.2700 - val_accuracy: 0.5987\n",
            "Epoch 67/1000\n",
            "4/4 [==============================] - 0s 31ms/step - loss: 1.2752 - accuracy: 0.5976 - val_loss: 1.2758 - val_accuracy: 0.5996\n",
            "Epoch 68/1000\n",
            "4/4 [==============================] - 0s 31ms/step - loss: 1.2742 - accuracy: 0.5965 - val_loss: 1.2749 - val_accuracy: 0.5969\n",
            "Epoch 69/1000\n",
            "4/4 [==============================] - 0s 25ms/step - loss: 1.2681 - accuracy: 0.6037 - val_loss: 1.2737 - val_accuracy: 0.6038\n",
            "Epoch 70/1000\n",
            "4/4 [==============================] - 0s 46ms/step - loss: 1.2667 - accuracy: 0.6018 - val_loss: 1.2622 - val_accuracy: 0.6123\n",
            "Epoch 71/1000\n",
            "4/4 [==============================] - 0s 46ms/step - loss: 1.2631 - accuracy: 0.6003 - val_loss: 1.2530 - val_accuracy: 0.6014\n",
            "Epoch 72/1000\n",
            "4/4 [==============================] - 0s 24ms/step - loss: 1.2522 - accuracy: 0.6055 - val_loss: 1.2646 - val_accuracy: 0.6087\n",
            "Epoch 73/1000\n",
            "4/4 [==============================] - 0s 48ms/step - loss: 1.2552 - accuracy: 0.6037 - val_loss: 1.2589 - val_accuracy: 0.6023\n",
            "Epoch 74/1000\n",
            "4/4 [==============================] - 0s 27ms/step - loss: 1.2496 - accuracy: 0.6059 - val_loss: 1.2452 - val_accuracy: 0.6056\n",
            "Epoch 75/1000\n",
            "4/4 [==============================] - 0s 24ms/step - loss: 1.2440 - accuracy: 0.6081 - val_loss: 1.2519 - val_accuracy: 0.6014\n",
            "Epoch 76/1000\n",
            "4/4 [==============================] - 0s 55ms/step - loss: 1.2471 - accuracy: 0.6065 - val_loss: 1.2477 - val_accuracy: 0.6056\n",
            "Epoch 77/1000\n",
            "4/4 [==============================] - 0s 28ms/step - loss: 1.2421 - accuracy: 0.6086 - val_loss: 1.2440 - val_accuracy: 0.6032\n",
            "Epoch 78/1000\n",
            "4/4 [==============================] - 0s 24ms/step - loss: 1.2255 - accuracy: 0.6127 - val_loss: 1.2531 - val_accuracy: 0.6065\n",
            "Epoch 79/1000\n",
            "4/4 [==============================] - 0s 27ms/step - loss: 1.2318 - accuracy: 0.6139 - val_loss: 1.2424 - val_accuracy: 0.6062\n",
            "Epoch 80/1000\n",
            "4/4 [==============================] - 0s 45ms/step - loss: 1.2297 - accuracy: 0.6145 - val_loss: 1.2684 - val_accuracy: 0.6047\n",
            "Epoch 81/1000\n",
            "4/4 [==============================] - 0s 23ms/step - loss: 1.2293 - accuracy: 0.6157 - val_loss: 1.2440 - val_accuracy: 0.6081\n",
            "Epoch 82/1000\n",
            "4/4 [==============================] - 0s 45ms/step - loss: 1.2224 - accuracy: 0.6125 - val_loss: 1.2433 - val_accuracy: 0.6065\n",
            "Epoch 83/1000\n",
            "4/4 [==============================] - 0s 45ms/step - loss: 1.2166 - accuracy: 0.6146 - val_loss: 1.2473 - val_accuracy: 0.6087\n",
            "Epoch 84/1000\n",
            "4/4 [==============================] - 0s 47ms/step - loss: 1.2076 - accuracy: 0.6179 - val_loss: 1.2417 - val_accuracy: 0.6077\n",
            "Epoch 85/1000\n",
            "4/4 [==============================] - 0s 66ms/step - loss: 1.2093 - accuracy: 0.6161 - val_loss: 1.2496 - val_accuracy: 0.6096\n",
            "Epoch 86/1000\n",
            "4/4 [==============================] - 0s 28ms/step - loss: 1.2111 - accuracy: 0.6192 - val_loss: 1.2432 - val_accuracy: 0.6047\n",
            "Epoch 87/1000\n",
            "4/4 [==============================] - 0s 27ms/step - loss: 1.2030 - accuracy: 0.6155 - val_loss: 1.2395 - val_accuracy: 0.6111\n",
            "Epoch 88/1000\n",
            "4/4 [==============================] - 0s 24ms/step - loss: 1.1971 - accuracy: 0.6205 - val_loss: 1.2430 - val_accuracy: 0.6068\n",
            "Epoch 89/1000\n",
            "4/4 [==============================] - 0s 27ms/step - loss: 1.2038 - accuracy: 0.6164 - val_loss: 1.2411 - val_accuracy: 0.6044\n",
            "Epoch 90/1000\n",
            "4/4 [==============================] - 0s 66ms/step - loss: 1.1959 - accuracy: 0.6180 - val_loss: 1.2514 - val_accuracy: 0.6087\n",
            "Epoch 91/1000\n",
            "4/4 [==============================] - 0s 24ms/step - loss: 1.1901 - accuracy: 0.6245 - val_loss: 1.2500 - val_accuracy: 0.6135\n",
            "Epoch 92/1000\n",
            "4/4 [==============================] - 0s 50ms/step - loss: 1.1936 - accuracy: 0.6221 - val_loss: 1.2462 - val_accuracy: 0.6059\n"
          ]
        }
      ]
    },
    {
      "cell_type": "code",
      "source": [
        "import pandas as pd\n",
        "plt=pd.DataFrame(history.history).plot(figsize=(8, 5))\n",
        "plt.grid(True)\n",
        "plt.set_ylim(0, 4) # set the vertical range to [0-1] plt.show()"
      ],
      "metadata": {
        "colab": {
          "base_uri": "https://localhost:8080/",
          "height": 468
        },
        "id": "sQKocuvqZHtK",
        "outputId": "1b612378-06ae-4c1f-b5c1-74ba0c7c0773"
      },
      "execution_count": null,
      "outputs": [
        {
          "output_type": "execute_result",
          "data": {
            "text/plain": [
              "(0.0, 4.0)"
            ]
          },
          "metadata": {},
          "execution_count": 34
        },
        {
          "output_type": "display_data",
          "data": {
            "text/plain": [
              "<Figure size 800x500 with 1 Axes>"
            ],
            "image/png": "[encoded data removed]"
          },
          "metadata": {}
        }
      ]
    },
    {
      "cell_type": "code",
      "source": [
        "loss, accuracy = model.evaluate(x=[encoder_test_seqs, decoder_test_input_seqs], y=decoder_test_output_seqs)\n"
      ],
      "metadata": {
        "colab": {
          "base_uri": "https://localhost:8080/"
        },
        "id": "mxTn49Vvh8Jc",
        "outputId": "e7a891a2-fc84-4d14-d978-de46a3b3bccb"
      },
      "execution_count": null,
      "outputs": [
        {
          "output_type": "stream",
          "name": "stdout",
          "text": [
            "3/3 [==============================] - 0s 26ms/step - loss: 1.2593 - accuracy: 0.6111\n"
          ]
        }
      ]
    },
    {
      "cell_type": "code",
      "source": [
        "import numpy as np\n",
        "\n",
        "# Sample input text\n",
        "input_text = \"'ليه' 'لما' 'تحب' 'حد' 'من' 'قلب+ك' 'يطلع' 'واطى' 'ليه' 'لما' 'تلعب' 'على' 'واحد' 'يطلع' 'ب+يحب+ك' 'ليه' 'اللى' 'ه+يموت' 'علي+ك' 'انت' 'مش' 'طايق+ه' 'و+اللى' 'ه+تموت' 'علي+ه' 'مش' 'طايق+ك' 'عجب+ت' 'ل+ك' 'يا' 'زمن' 'EOS'\"\n",
        "\n",
        "\n",
        "# Print the input text\n",
        "print(f\"Input Text: {input_text}\")\n",
        "\n",
        "# Tokenizer\n",
        "tokenizer = Tokenizer()\n",
        "tokenizer.fit_on_texts([input_text])  # Use a list even for a single text\n",
        "\n",
        "# Convert input text to sequences\n",
        "input_sequence = tokenizer.texts_to_sequences([input_text])\n",
        "\n",
        "# Pad the input sequence\n",
        "padded_input_sequence = pad_sequences(input_sequence, maxlen=max_input_length, padding=\"pre\")\n",
        "\n",
        "# Model prediction\n",
        "predicted_probabilities = model.predict([padded_input_sequence, np.zeros((1, 1))])\n",
        "\n",
        "# Assuming your output layer is a softmax layer\n",
        "predicted_token_index = np.argmax(predicted_probabilities[0, -1, :])\n",
        "\n",
        "# Convert the index to the corresponding word\n",
        "predicted_token = tokenizer_decoder.index_word.get(predicted_token_index, '<unk>')\n",
        "\n",
        "print(f\"Predicted Token: {predicted_token}\")\n"
      ],
      "metadata": {
        "colab": {
          "base_uri": "https://localhost:8080/"
        },
        "id": "2p8O0wqLV5lS",
        "outputId": "c840306f-9ea2-40fb-de7d-feeaf4eef754"
      },
      "execution_count": null,
      "outputs": [
        {
          "output_type": "stream",
          "name": "stdout",
          "text": [
            "Input Text: 'ليه' 'لما' 'تحب' 'حد' 'من' 'قلب+ك' 'يطلع' 'واطى' 'ليه' 'لما' 'تلعب' 'على' 'واحد' 'يطلع' 'ب+يحب+ك' 'ليه' 'اللى' 'ه+يموت' 'علي+ك' 'انت' 'مش' 'طايق+ه' 'و+اللى' 'ه+تموت' 'علي+ه' 'مش' 'طايق+ك' 'عجب+ت' 'ل+ك' 'يا' 'زمن' 'EOS'\n",
            "1/1 [==============================] - 0s 22ms/step\n",
            "Predicted Token: 'part'\n"
          ]
        }
      ]
    },
    {
      "cell_type": "code",
      "source": [
        "import numpy as np\n",
        "\n",
        "# Sample input text\n",
        "input_text = 'ليه لما تحب حد من قلب+ك يطلع واطى ليه لما تلعب على واحد يطلع ب+يحب+ك ليه اللى ه+يموت علي+ك انت مش طايق+ه و+اللى ه+تموت علي+ه مش طايق+ك عجب+ت ل+ك يا زمن EOS'\n",
        "\n",
        "# Split the input text into a list of words\n",
        "word_list = input_text.split()\n",
        "\n",
        "# Initialize an empty list to store predicted POS tags\n",
        "predicted_pos_tags = []\n",
        "\n",
        "# Iterate through each word in the list\n",
        "for word in word_list:\n",
        "    # Tokenize the word\n",
        "    input_sequence = tokenizer.texts_to_sequences([word])\n",
        "\n",
        "    # Pad the input sequence\n",
        "    padded_input_sequence = pad_sequences(input_sequence, maxlen=max_input_length, padding=\"pre\")\n",
        "\n",
        "    # Model prediction\n",
        "    predicted_probabilities = model.predict([padded_input_sequence, np.zeros((1, 1))])\n",
        "\n",
        "    # Assuming your output layer is a softmax layer\n",
        "    predicted_token_index = np.argmax(predicted_probabilities[0, -1, :])\n",
        "\n",
        "    # Convert the index to the corresponding word\n",
        "    predicted_token = tokenizer_decoder.index_word.get(predicted_token_index, '<unk>')\n",
        "\n",
        "    # Append the predicted POS tag to the list\n",
        "    predicted_pos_tags.append(predicted_token)\n",
        "\n",
        "# Display the result\n",
        "print(\"Input Text:\", input_text)\n",
        "print(\"Word List:\", word_list)\n",
        "print(\"Predicted POS Tags:\", predicted_pos_tags)\n"
      ],
      "metadata": {
        "colab": {
          "base_uri": "https://localhost:8080/"
        },
        "id": "EvqVc-8PYOHw",
        "outputId": "d5a0dba1-61c9-46c7-d901-6b13a3e27299"
      },
      "execution_count": null,
      "outputs": [
        {
          "output_type": "stream",
          "name": "stdout",
          "text": [
            "1/1 [==============================] - 0s 85ms/step\n",
            "1/1 [==============================] - 0s 33ms/step\n",
            "1/1 [==============================] - 0s 123ms/step\n",
            "1/1 [==============================] - 0s 45ms/step\n",
            "1/1 [==============================] - 0s 39ms/step\n",
            "1/1 [==============================] - 0s 104ms/step\n",
            "1/1 [==============================] - 0s 111ms/step\n",
            "1/1 [==============================] - 0s 99ms/step\n",
            "1/1 [==============================] - 0s 98ms/step\n",
            "1/1 [==============================] - 0s 115ms/step\n",
            "1/1 [==============================] - 0s 20ms/step\n",
            "1/1 [==============================] - 0s 19ms/step\n",
            "1/1 [==============================] - 0s 20ms/step\n",
            "1/1 [==============================] - 0s 21ms/step\n",
            "1/1 [==============================] - 0s 21ms/step\n",
            "1/1 [==============================] - 0s 19ms/step\n",
            "1/1 [==============================] - 0s 19ms/step\n",
            "1/1 [==============================] - 0s 19ms/step\n",
            "1/1 [==============================] - 0s 20ms/step\n",
            "1/1 [==============================] - 0s 19ms/step\n",
            "1/1 [==============================] - 0s 30ms/step\n",
            "1/1 [==============================] - 0s 19ms/step\n",
            "1/1 [==============================] - 0s 19ms/step\n",
            "1/1 [==============================] - 0s 20ms/step\n",
            "1/1 [==============================] - 0s 20ms/step\n",
            "1/1 [==============================] - 0s 23ms/step\n",
            "1/1 [==============================] - 0s 22ms/step\n",
            "1/1 [==============================] - 0s 20ms/step\n",
            "1/1 [==============================] - 0s 21ms/step\n",
            "1/1 [==============================] - 0s 19ms/step\n",
            "1/1 [==============================] - 0s 19ms/step\n",
            "1/1 [==============================] - 0s 19ms/step\n",
            "Input Text: ليه لما تحب حد من قلب+ك يطلع واطى ليه لما تلعب على واحد يطلع ب+يحب+ك ليه اللى ه+يموت علي+ك انت مش طايق+ه و+اللى ه+تموت علي+ه مش طايق+ك عجب+ت ل+ك يا زمن EOS\n",
            "Word List: ['ليه', 'لما', 'تحب', 'حد', 'من', 'قلب+ك', 'يطلع', 'واطى', 'ليه', 'لما', 'تلعب', 'على', 'واحد', 'يطلع', 'ب+يحب+ك', 'ليه', 'اللى', 'ه+يموت', 'علي+ك', 'انت', 'مش', 'طايق+ه', 'و+اللى', 'ه+تموت', 'علي+ه', 'مش', 'طايق+ك', 'عجب+ت', 'ل+ك', 'يا', 'زمن', 'EOS']\n",
            "Predicted POS Tags: [\"'part'\", \"'part'\", \"'part'\", \"'part'\", \"'part'\", \"'part'\", \"'part'\", \"'part'\", \"'part'\", \"'part'\", \"'part'\", \"'part'\", \"'part'\", \"'part'\", \"'part'\", \"'part'\", \"'part'\", \"'part'\", \"'part'\", \"'part'\", \"'part'\", \"'part'\", \"'part'\", \"'part'\", \"'part'\", \"'part'\", \"'part'\", \"'part'\", \"'part'\", \"'part'\", \"'part'\", \"'part'\"]\n"
          ]
        }
      ]
    }
  ]
}